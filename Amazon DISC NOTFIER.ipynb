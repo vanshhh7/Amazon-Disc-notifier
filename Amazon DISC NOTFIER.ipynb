{
 "cells": [
  {
   "cell_type": "code",
   "execution_count": 81,
   "id": "805a1001-2100-41aa-83c6-c1c0b0c04b5c",
   "metadata": {},
   "outputs": [
    {
     "name": "stdout",
     "output_type": "stream",
     "text": [
      "Title: Samsung Galaxy S23 Ultra 5G AI Smartphone (Green, 12GB, 256GB Storage)\n",
      "Price: 79999.\n"
     ]
    }
   ],
   "source": [
    "import requests\n",
    "from bs4 import BeautifulSoup\n",
    "import smtplib\n",
    "\n",
    "URL = 'https://www.amazon.in/Samsung-Galaxy-Ultra-Green-Storage/dp/B0BT9CXXXX/ref=sr_1_1_sspa?crid=4HEKVOY2563T&dib=eyJ2IjoiMSJ9.a0buvK5PjoR0OZT_PeGDsJ-lO_nZPV4WOk0RZskn6ZHoR1m1QdIWMM7PF2j6vcEI_aIO2cR1_F7IjeEr75vdMCkMHtga2w67YJWUhRV5wCRZczx48SAOPYXufdFzXuw6VIsbPVDPnvhjTLGJh8647taT2HRgE85WVmncfaaeDCHlaJoXderQRLb0_ev4sWAFfTzk46nTYgPi9zFzwyqcFePeyByYTmn8-gG85N3frnw.W4x8kBduTgc_mytCDBgSETB9ravJsTB_x8yA2Vopf-8&dib_tag=se&keywords=s23+samsung&nsdOptOutParam=true&qid=1731402085&sprefix=s23+%2Caps%2C230&sr=8-1-spons&sp_csd=d2lkZ2V0TmFtZT1zcF9hdGY&psc=1'\n",
    "    \n",
    "headers = {\n",
    "        \"User-Agent\": 'Mozilla/5.0 (Windows NT 10.0; Win64; x64) AppleWebKit/537.36 (KHTML, like Gecko) Chrome/130.0.0.0 Safari/537.36'}\n",
    "page = requests.get(URL, headers=headers)\n",
    "soup = BeautifulSoup(page.content, 'html.parser')\n",
    "        \n",
    "        \n",
    "page_title = soup.find(id=\"productTitle\").get_text().strip()\n",
    "price_element = soup.find(\"span\", class_=\"a-price-whole\").get_text()\n",
    "price= price_element.replace(',','')\n",
    "final_price= float(price)\n",
    "print(\"Title:\", page_title)\n",
    "print(\"Price:\", price)\n",
    "\n",
    "if (final_price< 79999):\n",
    "    send_email()\n",
    "\n",
    "\n",
    "\n",
    "def send_email():\n",
    "    server = smtplib.SMTP('smtp.gmail.com', 587)\n",
    "    server.starttls()\n",
    "\n",
    "    server.login('yaduvvanshi786@gmail.com', 'HelloVansh@123')\n",
    "    subject= \"Price has dropped!\"\n",
    "    body= \" Check Price on Amazon: https://www.amazon.in/Samsung-Galaxy-Ultra-Green-Storage/dp/B0BT9CXXXX/ref=sr_1_1_sspa?crid=4HEKVOY2563T&dib=eyJ2IjoiMSJ9.a0buvK5PjoR0OZT_PeGDsJ-lO_nZPV4WOk0RZskn6ZHoR1m1QdIWMM7PF2j6vcEI_aIO2cR1_F7IjeEr75vdMCkMHtga2w67YJWUhRV5wCRZczx48SAOPYXufdFzXuw6VIsbPVDPnvhjTLGJh8647taT2HRgE85WVmncfaaeDCHlaJoXderQRLb0_ev4sWAFfTzk46nTYgPi9zFzwyqcFePeyByYTmn8-gG85N3frnw.W4x8kBduTgc_mytCDBgSETB9ravJsTB_x8yA2Vopf-8&dib_tag=se&keywords=s23+samsung&nsdOptOutParam=true&qid=1731402085&sprefix=s23+%2Caps%2C230&sr=8-1-spons&sp_csd=d2lkZ2V0TmFtZT1zcF9hdGY&psc=1\"\n",
    "    message= f\"Subject:{subject}\\n\\n{body}\"\n",
    "    server.sendmail(\n",
    "        'yaduvvanshi786@gmail.com',\n",
    "        'yadavvanshp2211@gmail.com',\n",
    "        message\n",
    "    )\n",
    "    print(email is sent)\n",
    "    server.quit()"
   ]
  },
  {
   "cell_type": "code",
   "execution_count": null,
   "id": "129ad6a2-e4f7-49b6-9bc8-9fdd9dad63f4",
   "metadata": {},
   "outputs": [],
   "source": []
  }
 ],
 "metadata": {
  "kernelspec": {
   "display_name": "Python 3 (ipykernel)",
   "language": "python",
   "name": "python3"
  },
  "language_info": {
   "codemirror_mode": {
    "name": "ipython",
    "version": 3
   },
   "file_extension": ".py",
   "mimetype": "text/x-python",
   "name": "python",
   "nbconvert_exporter": "python",
   "pygments_lexer": "ipython3",
   "version": "3.12.7"
  },
  "panel-cell-order": [
   "f28fa595-9cdb-4aaa-83d6-c9a11e81379c"
  ]
 },
 "nbformat": 4,
 "nbformat_minor": 5
}
